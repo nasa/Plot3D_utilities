{
 "cells": [
  {
   "cell_type": "markdown",
   "id": "9a445250",
   "metadata": {},
   "source": [
    "# Merging Blocks using Plot3D\n",
    "With large meshes, it can be more efficient to minimize the number of blocks and send larger blocks to the CPU or GPU instead. This tutorial shows how to perform that combination automatically or manually"
   ]
  },
  {
   "cell_type": "markdown",
   "id": "93dbedbd",
   "metadata": {},
   "source": [
    "## Download an example mesh "
   ]
  },
  {
   "cell_type": "code",
   "execution_count": null,
   "id": "0e06be9f",
   "metadata": {},
   "outputs": [],
   "source": [
    "!wget https://nasa-public-data.s3.amazonaws.com/plot3d_utilities/iso65_64blocks.xyz"
   ]
  },
  {
   "cell_type": "markdown",
   "id": "9c09ee83",
   "metadata": {},
   "source": [
    "## Install Plot3D"
   ]
  },
  {
   "cell_type": "code",
   "execution_count": null,
   "id": "7a99fd8a",
   "metadata": {},
   "outputs": [],
   "source": [
    "!pip install plot3d"
   ]
  },
  {
   "cell_type": "code",
   "execution_count": null,
   "id": "0f36c9b1",
   "metadata": {},
   "outputs": [],
   "source": [
    "import os \n",
    "from plot3d import write_plot3D, read_plot3D, split_blocks, combine_nxnxn_cubes_mixed_pairs\n",
    "from plot3d import connectivity_fast, plot_blocks, find_matching_faces\n",
    "import pickle\n",
    "import numpy as np \n",
    "\n",
    "cmc_p3d_file = 'iso65_64blocks.xyz'\n",
    "cmc_p3d_bin = cmc_p3d_file.replace('.xyz','.bxyz')"
   ]
  },
  {
   "cell_type": "markdown",
   "id": "1364fcb7",
   "metadata": {},
   "source": [
    "## Find the connectivity between the blocks\n",
    "This is required for CFD solving and for merging blocks "
   ]
  },
  {
   "cell_type": "code",
   "execution_count": null,
   "id": "c7766735",
   "metadata": {},
   "outputs": [],
   "source": [
    "blocks = read_plot3D(cmc_p3d_file, binary = False)\n",
    "# Block 1 is the blade O-Mesh k=0\n",
    "# outer_faces, _ = get_outer_faces(blocks[0]) # lets check\n",
    "face_matches, outer_faces_formatted = connectivity_fast(blocks)\n",
    "test = np.array([(c['block1']['block_index'],c['block2']['block_index'])  for c in face_matches])\n",
    "print(f'minimum block index: {test.min()}')\n",
    "with open('connectivity.pickle','wb') as f:\n",
    "    [m.pop('match',None) for m in face_matches] # Remove the dataframe\n",
    "    pickle.dump({\"face_matches\":face_matches, \"outer_faces\":outer_faces_formatted},f)\n",
    "write_plot3D(cmc_p3d_bin, blocks,binary = True)"
   ]
  },
  {
   "cell_type": "code",
   "execution_count": null,
   "id": "b0c9433d",
   "metadata": {},
   "outputs": [],
   "source": [
    "# Plot the original blocks \n",
    "plot_blocks(blocks) # this function accepts an array "
   ]
  },
  {
   "cell_type": "markdown",
   "id": "4cab57da",
   "metadata": {},
   "source": [
    "## Combine blocks\n",
    "The code below automatically finds connected blocks and merges blocks together so 2x2x2 creates a rubix cube size 8 and 3x3x3 creates a rubix cube with 27 blocks."
   ]
  },
  {
   "cell_type": "code",
   "execution_count": null,
   "id": "d74348d0",
   "metadata": {},
   "outputs": [],
   "source": [
    "\n",
    "merged_face_matches = face_matches\n",
    "merged_outer_faces = outer_faces_formatted\n",
    "merged_block_only = blocks\n",
    "\n",
    "for i in range(1): # Loop and find new pairs\n",
    "    merged = combine_nxnxn_cubes_mixed_pairs(merged_block_only, merged_face_matches,cube_size=2)\n",
    "    merged_blocks_only = [m[0] for m in merged]\n",
    "    face_matches_2x2x2, outer_faces_formatted_2x2x2 = connectivity_fast(merged_blocks_only)\n",
    "    write_plot3D(\"merged_2x2x2.xyz\",merged_blocks_only,binary=False) \n",
    "    \n",
    "    test = np.array([(c['block1']['block_index'],c['block2']['block_index'])  for c in merged_face_matches])\n",
    "    print(f'minimum block index: {test.min()}')\n",
    "    [m.pop('match',None) for m in merged_face_matches] # Remove the dataframe\n",
    "    print(f'Merge pass {i} number of blocks {len(merged_blocks_only)}')\n",
    "\n",
    "    with open('merged_connectivity.pickle','wb') as f:\n",
    "        pickle.dump(\n",
    "            {\n",
    "                \"face_matches\":merged_face_matches,\n",
    "                \"outer_faces\":merged_outer_faces,\n",
    "                \"blocks\":merged_blocks_only\n",
    "            },f)"
   ]
  },
  {
   "cell_type": "code",
   "execution_count": null,
   "id": "6398181f",
   "metadata": {},
   "outputs": [],
   "source": [
    "plot_blocks(merged_blocks_only)"
   ]
  }
 ],
 "metadata": {
  "language_info": {
   "name": "python"
  }
 },
 "nbformat": 4,
 "nbformat_minor": 5
}
