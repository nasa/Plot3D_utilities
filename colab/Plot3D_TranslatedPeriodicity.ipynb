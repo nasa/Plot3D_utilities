{
  "cells": [
    {
      "cell_type": "markdown",
      "metadata": {
        "id": "UN8vArPNbL7d"
      },
      "source": [
        "# Translated Periodicity\n",
        "This is when you want to transfer information from one side of the block to the other. Example would be top to bottom or left to right, etc. Each colored cube represents a block. From previous tutorials, a block consists of a set of vertices.\n",
        "\n",
        "![cube wireframe](https://github.com/nasa/Plot3D_utilities/blob/main/colab/images/block_wireframe.png?raw=true)\n",
        "\n",
        "\n"
      ]
    },
    {
      "cell_type": "markdown",
      "metadata": {
        "id": "O5TbQWCGe0KX"
      },
      "source": [
        "## Steps Overview\n",
        "1. Find Connectivity - This splits the faces of all the blocks so that they match\n",
        "2. Build the Block connectivity matrix using connectivity - Uses the split faces to determine which blocks are connected. value of 1 = connected, 0 = not searched yet, -1 = not connected\n",
        "3. Search for connected faces on the z and y axis - Uses the block connectivity to find the outer connected faces. So, all the top faces for instance.\n",
        "4. Find translated periodicity - Uses the connected faces e.g. the left and right, or top and bottom, or front and back. Checks the connected faces to see if any of them match faces from the other side."
      ]
    },
    {
      "cell_type": "markdown",
      "metadata": {
        "id": "DlcIaWVebL7g"
      },
      "source": [
        "# Environment Setup\n",
        "This step is relatively short. Run the code below to install plot3d"
      ]
    },
    {
      "cell_type": "code",
      "execution_count": 1,
      "metadata": {
        "colab": {
          "base_uri": "https://localhost:8080/"
        },
        "id": "65K1wqsabL7h",
        "outputId": "148f182b-37d9-420a-f505-ec176668ce47"
      },
      "outputs": [
        {
          "output_type": "stream",
          "name": "stdout",
          "text": [
            "Collecting plot3d\n",
            "  Downloading plot3d-1.7.1-py3-none-any.whl.metadata (585 bytes)\n",
            "Requirement already satisfied: networkx in /usr/local/lib/python3.12/dist-packages (from plot3d) (3.5)\n",
            "Requirement already satisfied: numpy in /usr/local/lib/python3.12/dist-packages (from plot3d) (2.0.2)\n",
            "Requirement already satisfied: pandas in /usr/local/lib/python3.12/dist-packages (from plot3d) (2.2.2)\n",
            "Collecting pymetis (from plot3d)\n",
            "  Downloading pymetis-2025.2.1-cp312-cp312-manylinux_2_24_x86_64.manylinux_2_28_x86_64.whl.metadata (4.4 kB)\n",
            "Requirement already satisfied: scipy in /usr/local/lib/python3.12/dist-packages (from plot3d) (1.16.1)\n",
            "Requirement already satisfied: tqdm in /usr/local/lib/python3.12/dist-packages (from plot3d) (4.67.1)\n",
            "Requirement already satisfied: python-dateutil>=2.8.2 in /usr/local/lib/python3.12/dist-packages (from pandas->plot3d) (2.9.0.post0)\n",
            "Requirement already satisfied: pytz>=2020.1 in /usr/local/lib/python3.12/dist-packages (from pandas->plot3d) (2025.2)\n",
            "Requirement already satisfied: tzdata>=2022.7 in /usr/local/lib/python3.12/dist-packages (from pandas->plot3d) (2025.2)\n",
            "Requirement already satisfied: typing-extensions>=4.5 in /usr/local/lib/python3.12/dist-packages (from pymetis->plot3d) (4.14.1)\n",
            "Requirement already satisfied: six>=1.5 in /usr/local/lib/python3.12/dist-packages (from python-dateutil>=2.8.2->pandas->plot3d) (1.17.0)\n",
            "Downloading plot3d-1.7.1-py3-none-any.whl (67 kB)\n",
            "\u001b[2K   \u001b[90m━━━━━━━━━━━━━━━━━━━━━━━━━━━━━━━━━━━━━━━━\u001b[0m \u001b[32m67.0/67.0 kB\u001b[0m \u001b[31m2.0 MB/s\u001b[0m eta \u001b[36m0:00:00\u001b[0m\n",
            "\u001b[?25hDownloading pymetis-2025.2.1-cp312-cp312-manylinux_2_24_x86_64.manylinux_2_28_x86_64.whl (274 kB)\n",
            "\u001b[2K   \u001b[90m━━━━━━━━━━━━━━━━━━━━━━━━━━━━━━━━━━━━━━━━\u001b[0m \u001b[32m274.0/274.0 kB\u001b[0m \u001b[31m6.9 MB/s\u001b[0m eta \u001b[36m0:00:00\u001b[0m\n",
            "\u001b[?25hInstalling collected packages: pymetis, plot3d\n",
            "Successfully installed plot3d-1.7.1 pymetis-2025.2.1\n"
          ]
        }
      ],
      "source": [
        "!pip install plot3d"
      ]
    },
    {
      "cell_type": "markdown",
      "metadata": {
        "id": "IbjoEBrcc7VV"
      },
      "source": [
        "## Lets copy some files from the GitHub over\n",
        "This file is used an example of how to export the connectivity to a format where GlennHT can read.\n"
      ]
    },
    {
      "cell_type": "code",
      "execution_count": 2,
      "metadata": {
        "colab": {
          "base_uri": "https://localhost:8080/"
        },
        "id": "lMW5hyDmc_px",
        "outputId": "3b32f0f9-cc58-40ea-b70c-73c342baceac"
      },
      "outputs": [
        {
          "output_type": "stream",
          "name": "stdout",
          "text": [
            "Cloning into 'plot3d_utilities'...\n",
            "remote: Enumerating objects: 3141, done.\u001b[K\n",
            "remote: Counting objects: 100% (423/423), done.\u001b[K\n",
            "remote: Compressing objects: 100% (157/157), done.\u001b[K\n",
            "remote: Total 3141 (delta 333), reused 305 (delta 266), pack-reused 2718 (from 2)\u001b[K\n",
            "Receiving objects: 100% (3141/3141), 130.50 MiB | 19.30 MiB/s, done.\n",
            "Resolving deltas: 100% (2148/2148), done.\n"
          ]
        }
      ],
      "source": [
        "# Clone the source code for GlennOPT\n",
        "!git clone https://github.com/nasa/plot3d_utilities.git"
      ]
    },
    {
      "cell_type": "code",
      "execution_count": 3,
      "metadata": {
        "id": "FBrf-DZBdK8p"
      },
      "outputs": [],
      "source": [
        "# Copy the file we need\n",
        "!cp plot3d_utilities/python/examples/block_test/glennht_con.py ."
      ]
    },
    {
      "cell_type": "markdown",
      "metadata": {
        "id": "mN9K0S6SfBxk"
      },
      "source": [
        "## GlennHT Connectivity Format\n",
        "The glennht connectivity file is organized in 2 sections. The first section contains all the matching faces. The first number is the number of face pairs.\n",
        "\n",
        "![Glennht connectivity format](https://github.com/nasa/Plot3D_utilities/blob/main/colab/images/glennht_connectivity.png?raw=true)\n",
        "\n",
        "The second section show below shows the nonconnected faces also known as `outer_faces` in the code.\n",
        "\n",
        "![Glennht connectivity format](https://github.com/nasa/Plot3D_utilities/blob/main/colab/images/glennht_connectivity2.png?raw=true)"
      ]
    },
    {
      "cell_type": "markdown",
      "metadata": {
        "id": "ufxOe5SBbL7h"
      },
      "source": [
        "## Import some headers\n",
        "The code below are the functions from plot3d whcih will be used to find connectivity and periodicity."
      ]
    },
    {
      "cell_type": "code",
      "execution_count": 4,
      "metadata": {
        "id": "tt2aCE70bL7i"
      },
      "outputs": [],
      "source": [
        "import sys, os, pickle\n",
        "import numpy as np\n",
        "from plot3d import read_plot3D, connectivity_fast,translational_periodicity, block_connection_matrix, find_bounding_faces\n",
        "from plot3d import outer_face_dict_to_list, match_faces_dict_to_list"
      ]
    },
    {
      "cell_type": "code",
      "execution_count": 5,
      "metadata": {
        "id": "5bHJDMN9bL7i"
      },
      "outputs": [],
      "source": [
        "#%% Find connectivity\n",
        "def dump_data(data):\n",
        "    with open('block_data.pickle','wb') as f:\n",
        "        pickle.dump(data,f)\n",
        "\n",
        "def read_data():\n",
        "    with open('block_data.pickle','rb') as f:\n",
        "        return pickle.load(f)"
      ]
    },
    {
      "cell_type": "markdown",
      "metadata": {
        "id": "QG3S_RLubL7i"
      },
      "source": [
        "## Download the Geometry\n",
        "Run the code below to download the geometry into your colab environment"
      ]
    },
    {
      "cell_type": "code",
      "execution_count": 6,
      "metadata": {
        "colab": {
          "base_uri": "https://localhost:8080/"
        },
        "id": "1ybqgQYHbL7i",
        "outputId": "ebb32d63-9079-419a-f76d-1c0066cc883f"
      },
      "outputs": [
        {
          "output_type": "stream",
          "name": "stdout",
          "text": [
            "--2025-08-27 14:12:48--  https://nasa-public-data.s3.amazonaws.com/plot3d_utilities/iso65_64blocks.xyz\n",
            "Resolving nasa-public-data.s3.amazonaws.com (nasa-public-data.s3.amazonaws.com)... 52.217.230.57, 3.5.27.221, 52.217.105.76, ...\n",
            "Connecting to nasa-public-data.s3.amazonaws.com (nasa-public-data.s3.amazonaws.com)|52.217.230.57|:443... connected.\n",
            "HTTP request sent, awaiting response... 200 OK\n",
            "Length: 3773956 (3.6M) [binary/octet-stream]\n",
            "Saving to: ‘iso65_64blocks.xyz’\n",
            "\n",
            "iso65_64blocks.xyz  100%[===================>]   3.60M  --.-KB/s    in 0.1s    \n",
            "\n",
            "2025-08-27 14:12:48 (27.2 MB/s) - ‘iso65_64blocks.xyz’ saved [3773956/3773956]\n",
            "\n"
          ]
        }
      ],
      "source": [
        "!wget https://nasa-public-data.s3.amazonaws.com/plot3d_utilities/iso65_64blocks.xyz"
      ]
    },
    {
      "cell_type": "markdown",
      "metadata": {
        "id": "Cyrn5TKgbL7j"
      },
      "source": [
        "# Importing the mesh"
      ]
    },
    {
      "cell_type": "code",
      "execution_count": 7,
      "metadata": {
        "id": "yzDZc44UbL7j"
      },
      "outputs": [],
      "source": [
        "blocks = read_plot3D('iso65_64blocks.xyz',binary=True,read_double=False)"
      ]
    },
    {
      "cell_type": "markdown",
      "metadata": {
        "id": "IGmf9QmngGRT"
      },
      "source": [
        "## Find the Connectivity"
      ]
    },
    {
      "cell_type": "code",
      "execution_count": 8,
      "metadata": {
        "colab": {
          "base_uri": "https://localhost:8080/"
        },
        "id": "VJeEwL7ogKSl",
        "outputId": "1a07ad08-d405-4b16-aaf9-350b64d00dc7"
      },
      "outputs": [
        {
          "output_type": "stream",
          "name": "stdout",
          "text": [
            "Finding connectivity\n",
            "gcd to use 16\n"
          ]
        },
        {
          "output_type": "stream",
          "name": "stderr",
          "text": [
            "Checking connections block 63 with 60: 100%|██████████| 384/384 [00:11<00:00, 34.80it/s]\n"
          ]
        },
        {
          "output_type": "stream",
          "name": "stdout",
          "text": [
            "Organizing split and outerfaces\n"
          ]
        }
      ],
      "source": [
        "print('Finding connectivity')\n",
        "face_matches, outer_faces = connectivity_fast(blocks)\n",
        "[m.pop('match',None) for m in face_matches] # Remove the dataframe\n",
        "print('Organizing split and outerfaces')\n",
        "all_faces = match_faces_dict_to_list(blocks,face_matches)\n",
        "all_faces.extend(outer_face_dict_to_list(blocks,outer_faces))\n",
        "all_faces = [m.to_dict() for m in all_faces]\n",
        "data = {\n",
        "            \"face_matches\":face_matches,\n",
        "            \"outer_faces\":outer_faces,\n",
        "            \"all_faces\":all_faces\n",
        "        }\n",
        "dump_data(data)"
      ]
    },
    {
      "cell_type": "markdown",
      "metadata": {
        "id": "GMLGIL9sgS-X"
      },
      "source": [
        "## Create the Block to Block connection matrix\n",
        "It's important to find the connectivity first because it splits up all the partial matching faces. Those partial matching faces are then used to build a block to block connection matrix. This matrix is essential because it ultimately speeds up finding connected faces - useful for defining boundary conditions."
      ]
    },
    {
      "cell_type": "code",
      "execution_count": 9,
      "metadata": {
        "colab": {
          "base_uri": "https://localhost:8080/"
        },
        "id": "SLghMmiCgREj",
        "outputId": "defed5a0-e780-4a49-a9e7-4b7695bf4e4b"
      },
      "outputs": [
        {
          "output_type": "stream",
          "name": "stdout",
          "text": [
            "Creating block connection matrix\n"
          ]
        },
        {
          "output_type": "stream",
          "name": "stderr",
          "text": [
            "Building connectivity: checking block 0:   0%|          | 6/2016 [00:00<00:44, 44.99it/s]"
          ]
        },
        {
          "output_type": "stream",
          "name": "stdout",
          "text": [
            "[nodes] blocks 0 and 1 connected via blk: 0 [0,0,1,1,1,1] <-> blk: 1 [0,0,0,1,1,0]\n",
            "[nodes] blocks 0 and 2 connected via blk: 0 [0,1,0,1,1,1] <-> blk: 2 [0,0,0,1,0,1]\n",
            "[nodes] blocks 0 and 4 connected via blk: 0 [1,0,0,1,1,1] <-> blk: 4 [0,0,0,0,1,1]\n"
          ]
        },
        {
          "output_type": "stream",
          "name": "stderr",
          "text": [
            "Building connectivity: checking block 1:   4%|▎         | 71/2016 [00:02<00:58, 33.46it/s]"
          ]
        },
        {
          "output_type": "stream",
          "name": "stdout",
          "text": [
            "[nodes] blocks 1 and 3 connected via blk: 1 [0,1,0,1,1,1] <-> blk: 3 [0,0,0,1,0,1]\n",
            "[nodes] blocks 1 and 5 connected via blk: 1 [1,0,0,1,1,1] <-> blk: 5 [0,0,0,0,1,1]\n",
            "[nodes] blocks 1 and 8 connected via blk: 1 [0,0,1,1,1,1] <-> blk: 8 [0,0,0,1,1,0]\n"
          ]
        },
        {
          "output_type": "stream",
          "name": "stderr",
          "text": [
            "Building connectivity: checking block 2:   6%|▋         | 131/2016 [00:04<00:58, 32.01it/s]"
          ]
        },
        {
          "output_type": "stream",
          "name": "stdout",
          "text": [
            "[nodes] blocks 2 and 3 connected via blk: 2 [0,0,1,1,1,1] <-> blk: 3 [0,0,0,1,1,0]\n",
            "[nodes] blocks 2 and 6 connected via blk: 2 [1,0,0,1,1,1] <-> blk: 6 [0,0,0,0,1,1]\n"
          ]
        },
        {
          "output_type": "stream",
          "name": "stderr",
          "text": [
            "Building connectivity: checking block 2:   7%|▋         | 143/2016 [00:04<00:57, 32.40it/s]"
          ]
        },
        {
          "output_type": "stream",
          "name": "stdout",
          "text": [
            "[nodes] blocks 2 and 16 connected via blk: 2 [0,1,0,1,1,1] <-> blk: 16 [0,0,0,1,0,1]\n"
          ]
        },
        {
          "output_type": "stream",
          "name": "stderr",
          "text": [
            "Building connectivity: checking block 3:  10%|▉         | 195/2016 [00:06<01:00, 30.31it/s]"
          ]
        },
        {
          "output_type": "stream",
          "name": "stdout",
          "text": [
            "[nodes] blocks 3 and 7 connected via blk: 3 [1,0,0,1,1,1] <-> blk: 7 [0,0,0,0,1,1]\n",
            "[nodes] blocks 3 and 10 connected via blk: 3 [0,0,1,1,1,1] <-> blk: 10 [0,0,0,1,1,0]\n"
          ]
        },
        {
          "output_type": "stream",
          "name": "stderr",
          "text": [
            "Building connectivity: checking block 3:  10%|█         | 202/2016 [00:06<01:08, 26.53it/s]"
          ]
        },
        {
          "output_type": "stream",
          "name": "stdout",
          "text": [
            "[nodes] blocks 3 and 17 connected via blk: 3 [0,1,0,1,1,1] <-> blk: 17 [0,0,0,1,0,1]\n"
          ]
        },
        {
          "output_type": "stream",
          "name": "stderr",
          "text": [
            "Building connectivity: checking block 4:  12%|█▏        | 251/2016 [00:08<00:53, 32.86it/s]"
          ]
        },
        {
          "output_type": "stream",
          "name": "stdout",
          "text": [
            "[nodes] blocks 4 and 5 connected via blk: 4 [0,0,1,1,1,1] <-> blk: 5 [0,0,0,1,1,0]\n",
            "[nodes] blocks 4 and 6 connected via blk: 4 [0,1,0,1,1,1] <-> blk: 6 [0,0,0,1,0,1]\n"
          ]
        },
        {
          "output_type": "stream",
          "name": "stderr",
          "text": [
            "Building connectivity: checking block 4:  14%|█▎        | 277/2016 [00:09<01:10, 24.52it/s]"
          ]
        },
        {
          "output_type": "stream",
          "name": "stdout",
          "text": [
            "[nodes] blocks 4 and 32 connected via blk: 4 [1,0,0,1,1,1] <-> blk: 32 [0,0,0,0,1,1]\n"
          ]
        },
        {
          "output_type": "stream",
          "name": "stderr",
          "text": [
            "Building connectivity: checking block 5:  15%|█▌        | 310/2016 [00:10<01:18, 21.84it/s]"
          ]
        },
        {
          "output_type": "stream",
          "name": "stdout",
          "text": [
            "[nodes] blocks 5 and 7 connected via blk: 5 [0,1,0,1,1,1] <-> blk: 7 [0,0,0,1,0,1]\n"
          ]
        },
        {
          "output_type": "stream",
          "name": "stderr",
          "text": [
            "Building connectivity: checking block 5:  16%|█▌        | 316/2016 [00:11<01:17, 21.87it/s]"
          ]
        },
        {
          "output_type": "stream",
          "name": "stdout",
          "text": [
            "[nodes] blocks 5 and 12 connected via blk: 5 [0,0,1,1,1,1] <-> blk: 12 [0,0,0,1,1,0]\n"
          ]
        },
        {
          "output_type": "stream",
          "name": "stderr",
          "text": [
            "Building connectivity: checking block 5:  17%|█▋        | 336/2016 [00:12<01:02, 26.70it/s]"
          ]
        },
        {
          "output_type": "stream",
          "name": "stdout",
          "text": [
            "[nodes] blocks 5 and 33 connected via blk: 5 [1,0,0,1,1,1] <-> blk: 33 [0,0,0,0,1,1]\n"
          ]
        },
        {
          "output_type": "stream",
          "name": "stderr",
          "text": [
            "Building connectivity: checking block 6:  18%|█▊        | 368/2016 [00:13<00:54, 30.26it/s]"
          ]
        },
        {
          "output_type": "stream",
          "name": "stdout",
          "text": [
            "[nodes] blocks 6 and 7 connected via blk: 6 [0,0,1,1,1,1] <-> blk: 7 [0,0,0,1,1,0]\n"
          ]
        },
        {
          "output_type": "stream",
          "name": "stderr",
          "text": [
            "Building connectivity: checking block 6:  19%|█▉        | 380/2016 [00:13<00:51, 31.47it/s]"
          ]
        },
        {
          "output_type": "stream",
          "name": "stdout",
          "text": [
            "[nodes] blocks 6 and 20 connected via blk: 6 [0,1,0,1,1,1] <-> blk: 20 [0,0,0,1,0,1]\n"
          ]
        },
        {
          "output_type": "stream",
          "name": "stderr",
          "text": [
            "Building connectivity: checking block 6:  20%|█▉        | 396/2016 [00:13<00:52, 31.09it/s]"
          ]
        },
        {
          "output_type": "stream",
          "name": "stdout",
          "text": [
            "[nodes] blocks 6 and 34 connected via blk: 6 [1,0,0,1,1,1] <-> blk: 34 [0,0,0,0,1,1]\n"
          ]
        },
        {
          "output_type": "stream",
          "name": "stderr",
          "text": [
            "Building connectivity: checking block 7:  21%|██▏       | 432/2016 [00:15<00:50, 31.08it/s]"
          ]
        },
        {
          "output_type": "stream",
          "name": "stdout",
          "text": [
            "[nodes] blocks 7 and 14 connected via blk: 7 [0,0,1,1,1,1] <-> blk: 14 [0,0,0,1,1,0]\n"
          ]
        },
        {
          "output_type": "stream",
          "name": "stderr",
          "text": [
            "Building connectivity: checking block 7:  22%|██▏       | 436/2016 [00:15<00:49, 31.71it/s]"
          ]
        },
        {
          "output_type": "stream",
          "name": "stdout",
          "text": [
            "[nodes] blocks 7 and 21 connected via blk: 7 [0,1,0,1,1,1] <-> blk: 21 [0,0,0,1,0,1]\n"
          ]
        },
        {
          "output_type": "stream",
          "name": "stderr",
          "text": [
            "Building connectivity: checking block 7:  22%|██▏       | 452/2016 [00:15<00:50, 31.01it/s]"
          ]
        },
        {
          "output_type": "stream",
          "name": "stdout",
          "text": [
            "[nodes] blocks 7 and 35 connected via blk: 7 [1,0,0,1,1,1] <-> blk: 35 [0,0,0,0,1,1]\n"
          ]
        },
        {
          "output_type": "stream",
          "name": "stderr",
          "text": [
            "Building connectivity: checking block 8:  24%|██▍       | 481/2016 [00:16<00:43, 35.02it/s]"
          ]
        },
        {
          "output_type": "stream",
          "name": "stdout",
          "text": [
            "[nodes] blocks 8 and 9 connected via blk: 8 [0,0,1,1,1,1] <-> blk: 9 [0,0,0,1,1,0]\n",
            "[nodes] blocks 8 and 10 connected via blk: 8 [0,1,0,1,1,1] <-> blk: 10 [0,0,0,1,0,1]\n",
            "[nodes] blocks 8 and 12 connected via blk: 8 [1,0,0,1,1,1] <-> blk: 12 [0,0,0,0,1,1]\n"
          ]
        },
        {
          "output_type": "stream",
          "name": "stderr",
          "text": [
            "Building connectivity: checking block 9:  27%|██▋       | 537/2016 [00:18<00:45, 32.81it/s]"
          ]
        },
        {
          "output_type": "stream",
          "name": "stdout",
          "text": [
            "[nodes] blocks 9 and 11 connected via blk: 9 [0,1,0,1,1,1] <-> blk: 11 [0,0,0,1,0,1]\n",
            "[nodes] blocks 9 and 13 connected via blk: 9 [1,0,0,1,1,1] <-> blk: 13 [0,0,0,0,1,1]\n"
          ]
        },
        {
          "output_type": "stream",
          "name": "stderr",
          "text": [
            "Building connectivity: checking block 10:  29%|██▉       | 589/2016 [00:20<00:43, 32.96it/s]"
          ]
        },
        {
          "output_type": "stream",
          "name": "stdout",
          "text": [
            "[nodes] blocks 10 and 11 connected via blk: 10 [0,0,1,1,1,1] <-> blk: 11 [0,0,0,1,1,0]\n",
            "[nodes] blocks 10 and 14 connected via blk: 10 [1,0,0,1,1,1] <-> blk: 14 [0,0,0,0,1,1]\n"
          ]
        },
        {
          "output_type": "stream",
          "name": "stderr",
          "text": [
            "Building connectivity: checking block 10:  30%|██▉       | 601/2016 [00:20<00:43, 32.75it/s]"
          ]
        },
        {
          "output_type": "stream",
          "name": "stdout",
          "text": [
            "[nodes] blocks 10 and 24 connected via blk: 10 [0,1,0,1,1,1] <-> blk: 24 [0,0,0,1,0,1]\n"
          ]
        },
        {
          "output_type": "stream",
          "name": "stderr",
          "text": [
            "Building connectivity: checking block 11:  32%|███▏      | 646/2016 [00:22<00:56, 24.27it/s]"
          ]
        },
        {
          "output_type": "stream",
          "name": "stdout",
          "text": [
            "[nodes] blocks 11 and 15 connected via blk: 11 [1,0,0,1,1,1] <-> blk: 15 [0,0,0,0,1,1]\n"
          ]
        },
        {
          "output_type": "stream",
          "name": "stderr",
          "text": [
            "Building connectivity: checking block 11:  32%|███▏      | 655/2016 [00:22<00:58, 23.11it/s]"
          ]
        },
        {
          "output_type": "stream",
          "name": "stdout",
          "text": [
            "[nodes] blocks 11 and 25 connected via blk: 11 [0,1,0,1,1,1] <-> blk: 25 [0,0,0,1,0,1]\n"
          ]
        },
        {
          "output_type": "stream",
          "name": "stderr",
          "text": [
            "Building connectivity: checking block 12:  34%|███▍      | 694/2016 [00:24<00:59, 22.15it/s]"
          ]
        },
        {
          "output_type": "stream",
          "name": "stdout",
          "text": [
            "[nodes] blocks 12 and 13 connected via blk: 12 [0,0,1,1,1,1] <-> blk: 13 [0,0,0,1,1,0]\n",
            "[nodes] blocks 12 and 14 connected via blk: 12 [0,1,0,1,1,1] <-> blk: 14 [0,0,0,1,0,1]\n"
          ]
        },
        {
          "output_type": "stream",
          "name": "stderr",
          "text": [
            "Building connectivity: checking block 12:  36%|███▌      | 723/2016 [00:25<00:42, 30.08it/s]"
          ]
        },
        {
          "output_type": "stream",
          "name": "stdout",
          "text": [
            "[nodes] blocks 12 and 40 connected via blk: 12 [1,0,0,1,1,1] <-> blk: 40 [0,0,0,0,1,1]\n"
          ]
        },
        {
          "output_type": "stream",
          "name": "stderr",
          "text": [
            "Building connectivity: checking block 13:  37%|███▋      | 747/2016 [00:26<00:41, 30.42it/s]"
          ]
        },
        {
          "output_type": "stream",
          "name": "stdout",
          "text": [
            "[nodes] blocks 13 and 15 connected via blk: 13 [0,1,0,1,1,1] <-> blk: 15 [0,0,0,1,0,1]\n"
          ]
        },
        {
          "output_type": "stream",
          "name": "stderr",
          "text": [
            "Building connectivity: checking block 13:  38%|███▊      | 771/2016 [00:26<00:38, 32.39it/s]"
          ]
        },
        {
          "output_type": "stream",
          "name": "stdout",
          "text": [
            "[nodes] blocks 13 and 41 connected via blk: 13 [1,0,0,1,1,1] <-> blk: 41 [0,0,0,0,1,1]\n"
          ]
        },
        {
          "output_type": "stream",
          "name": "stderr",
          "text": [
            "Building connectivity: checking block 14:  39%|███▉      | 795/2016 [00:27<00:38, 31.56it/s]"
          ]
        },
        {
          "output_type": "stream",
          "name": "stdout",
          "text": [
            "[nodes] blocks 14 and 15 connected via blk: 14 [0,0,1,1,1,1] <-> blk: 15 [0,0,0,1,1,0]\n"
          ]
        },
        {
          "output_type": "stream",
          "name": "stderr",
          "text": [
            "Building connectivity: checking block 14:  40%|████      | 811/2016 [00:28<00:38, 31.31it/s]"
          ]
        },
        {
          "output_type": "stream",
          "name": "stdout",
          "text": [
            "[nodes] blocks 14 and 28 connected via blk: 14 [0,1,0,1,1,1] <-> blk: 28 [0,0,0,1,0,1]\n"
          ]
        },
        {
          "output_type": "stream",
          "name": "stderr",
          "text": [
            "Building connectivity: checking block 14:  41%|████      | 823/2016 [00:28<00:37, 31.41it/s]"
          ]
        },
        {
          "output_type": "stream",
          "name": "stdout",
          "text": [
            "[nodes] blocks 14 and 42 connected via blk: 14 [1,0,0,1,1,1] <-> blk: 42 [0,0,0,0,1,1]\n"
          ]
        },
        {
          "output_type": "stream",
          "name": "stderr",
          "text": [
            "Building connectivity: checking block 15:  43%|████▎     | 859/2016 [00:29<00:36, 31.52it/s]"
          ]
        },
        {
          "output_type": "stream",
          "name": "stdout",
          "text": [
            "[nodes] blocks 15 and 29 connected via blk: 15 [0,1,0,1,1,1] <-> blk: 29 [0,0,0,1,0,1]\n"
          ]
        },
        {
          "output_type": "stream",
          "name": "stderr",
          "text": [
            "Building connectivity: checking block 15:  43%|████▎     | 871/2016 [00:30<00:37, 30.48it/s]"
          ]
        },
        {
          "output_type": "stream",
          "name": "stdout",
          "text": [
            "[nodes] blocks 15 and 43 connected via blk: 15 [1,0,0,1,1,1] <-> blk: 43 [0,0,0,0,1,1]\n"
          ]
        },
        {
          "output_type": "stream",
          "name": "stderr",
          "text": [
            "Building connectivity: checking block 16:  44%|████▍     | 896/2016 [00:30<00:33, 33.23it/s]"
          ]
        },
        {
          "output_type": "stream",
          "name": "stdout",
          "text": [
            "[nodes] blocks 16 and 17 connected via blk: 16 [0,0,1,1,1,1] <-> blk: 17 [0,0,0,1,1,0]\n",
            "[nodes] blocks 16 and 18 connected via blk: 16 [0,1,0,1,1,1] <-> blk: 18 [0,0,0,1,0,1]\n",
            "[nodes] blocks 16 and 20 connected via blk: 16 [1,0,0,1,1,1] <-> blk: 20 [0,0,0,0,1,1]\n"
          ]
        },
        {
          "output_type": "stream",
          "name": "stderr",
          "text": [
            "Building connectivity: checking block 17:  47%|████▋     | 940/2016 [00:32<00:33, 31.68it/s]"
          ]
        },
        {
          "output_type": "stream",
          "name": "stdout",
          "text": [
            "[nodes] blocks 17 and 19 connected via blk: 17 [0,1,0,1,1,1] <-> blk: 19 [0,0,0,1,0,1]\n",
            "[nodes] blocks 17 and 21 connected via blk: 17 [1,0,0,1,1,1] <-> blk: 21 [0,0,0,0,1,1]\n",
            "[nodes] blocks 17 and 24 connected via blk: 17 [0,0,1,1,1,1] <-> blk: 24 [0,0,0,1,1,0]\n"
          ]
        },
        {
          "output_type": "stream",
          "name": "stderr",
          "text": [
            "Building connectivity: checking block 18:  49%|████▉     | 988/2016 [00:33<00:30, 33.84it/s]"
          ]
        },
        {
          "output_type": "stream",
          "name": "stdout",
          "text": [
            "[nodes] blocks 18 and 19 connected via blk: 18 [0,0,1,1,1,1] <-> blk: 19 [0,0,0,1,1,0]\n",
            "[nodes] blocks 18 and 22 connected via blk: 18 [1,0,0,1,1,1] <-> blk: 22 [0,0,0,0,1,1]\n"
          ]
        },
        {
          "output_type": "stream",
          "name": "stderr",
          "text": [
            "Building connectivity: checking block 19:  51%|█████     | 1033/2016 [00:35<00:40, 24.36it/s]"
          ]
        },
        {
          "output_type": "stream",
          "name": "stdout",
          "text": [
            "[nodes] blocks 19 and 23 connected via blk: 19 [1,0,0,1,1,1] <-> blk: 23 [0,0,0,0,1,1]\n",
            "[nodes] blocks 19 and 26 connected via blk: 19 [0,0,1,1,1,1] <-> blk: 26 [0,0,0,1,1,0]\n"
          ]
        },
        {
          "output_type": "stream",
          "name": "stderr",
          "text": [
            "Building connectivity: checking block 20:  53%|█████▎    | 1075/2016 [00:37<00:46, 20.41it/s]"
          ]
        },
        {
          "output_type": "stream",
          "name": "stdout",
          "text": [
            "[nodes] blocks 20 and 21 connected via blk: 20 [0,0,1,1,1,1] <-> blk: 21 [0,0,0,1,1,0]\n",
            "[nodes] blocks 20 and 22 connected via blk: 20 [0,1,0,1,1,1] <-> blk: 22 [0,0,0,1,0,1]\n"
          ]
        },
        {
          "output_type": "stream",
          "name": "stderr",
          "text": [
            "Building connectivity: checking block 20:  55%|█████▍    | 1101/2016 [00:38<00:29, 30.62it/s]"
          ]
        },
        {
          "output_type": "stream",
          "name": "stdout",
          "text": [
            "[nodes] blocks 20 and 48 connected via blk: 20 [1,0,0,1,1,1] <-> blk: 48 [0,0,0,0,1,1]\n"
          ]
        },
        {
          "output_type": "stream",
          "name": "stderr",
          "text": [
            "Building connectivity: checking block 21:  55%|█████▌    | 1117/2016 [00:39<00:36, 24.65it/s]"
          ]
        },
        {
          "output_type": "stream",
          "name": "stdout",
          "text": [
            "[nodes] blocks 21 and 23 connected via blk: 21 [0,1,0,1,1,1] <-> blk: 23 [0,0,0,1,0,1]\n"
          ]
        },
        {
          "output_type": "stream",
          "name": "stderr",
          "text": [
            "Building connectivity: checking block 21:  56%|█████▌    | 1124/2016 [00:39<00:32, 27.04it/s]"
          ]
        },
        {
          "output_type": "stream",
          "name": "stdout",
          "text": [
            "[nodes] blocks 21 and 28 connected via blk: 21 [0,0,1,1,1,1] <-> blk: 28 [0,0,0,1,1,0]\n"
          ]
        },
        {
          "output_type": "stream",
          "name": "stderr",
          "text": [
            "Building connectivity: checking block 21:  57%|█████▋    | 1146/2016 [00:40<00:32, 27.08it/s]"
          ]
        },
        {
          "output_type": "stream",
          "name": "stdout",
          "text": [
            "[nodes] blocks 21 and 49 connected via blk: 21 [1,0,0,1,1,1] <-> blk: 49 [0,0,0,0,1,1]\n"
          ]
        },
        {
          "output_type": "stream",
          "name": "stderr",
          "text": [
            "Building connectivity: checking block 22:  57%|█████▋    | 1158/2016 [00:40<00:35, 24.30it/s]"
          ]
        },
        {
          "output_type": "stream",
          "name": "stdout",
          "text": [
            "[nodes] blocks 22 and 23 connected via blk: 22 [0,0,1,1,1,1] <-> blk: 23 [0,0,0,1,1,0]\n"
          ]
        },
        {
          "output_type": "stream",
          "name": "stderr",
          "text": [
            "Building connectivity: checking block 22:  59%|█████▉    | 1189/2016 [00:41<00:25, 31.89it/s]"
          ]
        },
        {
          "output_type": "stream",
          "name": "stdout",
          "text": [
            "[nodes] blocks 22 and 50 connected via blk: 22 [1,0,0,1,1,1] <-> blk: 50 [0,0,0,0,1,1]\n"
          ]
        },
        {
          "output_type": "stream",
          "name": "stderr",
          "text": [
            "Building connectivity: checking block 23:  60%|█████▉    | 1205/2016 [00:42<00:25, 31.22it/s]"
          ]
        },
        {
          "output_type": "stream",
          "name": "stdout",
          "text": [
            "[nodes] blocks 23 and 30 connected via blk: 23 [0,0,1,1,1,1] <-> blk: 30 [0,0,0,1,1,0]\n"
          ]
        },
        {
          "output_type": "stream",
          "name": "stderr",
          "text": [
            "Building connectivity: checking block 23:  61%|██████    | 1229/2016 [00:42<00:26, 29.91it/s]"
          ]
        },
        {
          "output_type": "stream",
          "name": "stdout",
          "text": [
            "[nodes] blocks 23 and 51 connected via blk: 23 [1,0,0,1,1,1] <-> blk: 51 [0,0,0,0,1,1]\n"
          ]
        },
        {
          "output_type": "stream",
          "name": "stderr",
          "text": [
            "Building connectivity: checking block 24:  62%|██████▏   | 1241/2016 [00:43<00:23, 32.99it/s]"
          ]
        },
        {
          "output_type": "stream",
          "name": "stdout",
          "text": [
            "[nodes] blocks 24 and 25 connected via blk: 24 [0,0,1,1,1,1] <-> blk: 25 [0,0,0,1,1,0]\n",
            "[nodes] blocks 24 and 26 connected via blk: 24 [0,1,0,1,1,1] <-> blk: 26 [0,0,0,1,0,1]\n",
            "[nodes] blocks 24 and 28 connected via blk: 24 [1,0,0,1,1,1] <-> blk: 28 [0,0,0,0,1,1]\n"
          ]
        },
        {
          "output_type": "stream",
          "name": "stderr",
          "text": [
            "Building connectivity: checking block 25:  64%|██████▎   | 1281/2016 [00:44<00:23, 31.84it/s]"
          ]
        },
        {
          "output_type": "stream",
          "name": "stdout",
          "text": [
            "[nodes] blocks 25 and 27 connected via blk: 25 [0,1,0,1,1,1] <-> blk: 27 [0,0,0,1,0,1]\n",
            "[nodes] blocks 25 and 29 connected via blk: 25 [1,0,0,1,1,1] <-> blk: 29 [0,0,0,0,1,1]\n"
          ]
        },
        {
          "output_type": "stream",
          "name": "stderr",
          "text": [
            "Building connectivity: checking block 26:  65%|██████▌   | 1320/2016 [00:45<00:21, 32.07it/s]"
          ]
        },
        {
          "output_type": "stream",
          "name": "stdout",
          "text": [
            "[nodes] blocks 26 and 27 connected via blk: 26 [0,0,1,1,1,1] <-> blk: 27 [0,0,0,1,1,0]\n",
            "[nodes] blocks 26 and 30 connected via blk: 26 [1,0,0,1,1,1] <-> blk: 30 [0,0,0,0,1,1]\n"
          ]
        },
        {
          "output_type": "stream",
          "name": "stderr",
          "text": [
            "Building connectivity: checking block 27:  67%|██████▋   | 1360/2016 [00:47<00:21, 30.28it/s]"
          ]
        },
        {
          "output_type": "stream",
          "name": "stdout",
          "text": [
            "[nodes] blocks 27 and 31 connected via blk: 27 [1,0,0,1,1,1] <-> blk: 31 [0,0,0,0,1,1]\n"
          ]
        },
        {
          "output_type": "stream",
          "name": "stderr",
          "text": [
            "Building connectivity: checking block 28:  69%|██████▉   | 1391/2016 [00:48<00:26, 23.87it/s]"
          ]
        },
        {
          "output_type": "stream",
          "name": "stdout",
          "text": [
            "[nodes] blocks 28 and 29 connected via blk: 28 [0,0,1,1,1,1] <-> blk: 29 [0,0,0,1,1,0]\n",
            "[nodes] blocks 28 and 30 connected via blk: 28 [0,1,0,1,1,1] <-> blk: 30 [0,0,0,1,0,1]\n"
          ]
        },
        {
          "output_type": "stream",
          "name": "stderr",
          "text": [
            "Building connectivity: checking block 28:  70%|███████   | 1418/2016 [00:49<00:27, 21.63it/s]"
          ]
        },
        {
          "output_type": "stream",
          "name": "stdout",
          "text": [
            "[nodes] blocks 28 and 56 connected via blk: 28 [1,0,0,1,1,1] <-> blk: 56 [0,0,0,0,1,1]\n"
          ]
        },
        {
          "output_type": "stream",
          "name": "stderr",
          "text": [
            "Building connectivity: checking block 29:  71%|███████   | 1427/2016 [00:50<00:27, 21.76it/s]"
          ]
        },
        {
          "output_type": "stream",
          "name": "stdout",
          "text": [
            "[nodes] blocks 29 and 31 connected via blk: 29 [0,1,0,1,1,1] <-> blk: 31 [0,0,0,1,0,1]\n"
          ]
        },
        {
          "output_type": "stream",
          "name": "stderr",
          "text": [
            "Building connectivity: checking block 30:  72%|███████▏  | 1452/2016 [00:51<00:20, 28.16it/s]"
          ]
        },
        {
          "output_type": "stream",
          "name": "stdout",
          "text": [
            "[nodes] blocks 29 and 57 connected via blk: 29 [1,0,0,1,1,1] <-> blk: 57 [0,0,0,0,1,1]\n"
          ]
        },
        {
          "output_type": "stream",
          "name": "stderr",
          "text": [
            "Building connectivity: checking block 30:  72%|███████▏  | 1460/2016 [00:51<00:19, 29.17it/s]"
          ]
        },
        {
          "output_type": "stream",
          "name": "stdout",
          "text": [
            "[nodes] blocks 30 and 31 connected via blk: 30 [0,0,1,1,1,1] <-> blk: 31 [0,0,0,1,1,0]\n"
          ]
        },
        {
          "output_type": "stream",
          "name": "stderr",
          "text": [
            "Building connectivity: checking block 31:  74%|███████▍  | 1488/2016 [00:52<00:17, 30.86it/s]"
          ]
        },
        {
          "output_type": "stream",
          "name": "stdout",
          "text": [
            "[nodes] blocks 30 and 58 connected via blk: 30 [1,0,0,1,1,1] <-> blk: 58 [0,0,0,0,1,1]\n"
          ]
        },
        {
          "output_type": "stream",
          "name": "stderr",
          "text": [
            "Building connectivity: checking block 32:  75%|███████▌  | 1520/2016 [00:53<00:15, 31.41it/s]"
          ]
        },
        {
          "output_type": "stream",
          "name": "stdout",
          "text": [
            "[nodes] blocks 31 and 59 connected via blk: 31 [1,0,0,1,1,1] <-> blk: 59 [0,0,0,0,1,1]\n",
            "[nodes] blocks 32 and 33 connected via blk: 32 [0,0,1,1,1,1] <-> blk: 33 [0,0,0,1,1,0]\n",
            "[nodes] blocks 32 and 34 connected via blk: 32 [0,1,0,1,1,1] <-> blk: 34 [0,0,0,1,0,1]\n"
          ]
        },
        {
          "output_type": "stream",
          "name": "stderr",
          "text": [
            "Building connectivity: checking block 32:  76%|███████▌  | 1529/2016 [00:53<00:14, 32.87it/s]"
          ]
        },
        {
          "output_type": "stream",
          "name": "stdout",
          "text": [
            "[nodes] blocks 32 and 36 connected via blk: 32 [1,0,0,1,1,1] <-> blk: 36 [0,0,0,0,1,1]\n"
          ]
        },
        {
          "output_type": "stream",
          "name": "stderr",
          "text": [
            "Building connectivity: checking block 33:  77%|███████▋  | 1557/2016 [00:54<00:15, 29.92it/s]"
          ]
        },
        {
          "output_type": "stream",
          "name": "stdout",
          "text": [
            "[nodes] blocks 33 and 35 connected via blk: 33 [0,1,0,1,1,1] <-> blk: 35 [0,0,0,1,0,1]\n",
            "[nodes] blocks 33 and 37 connected via blk: 33 [1,0,0,1,1,1] <-> blk: 37 [0,0,0,0,1,1]\n",
            "[nodes] blocks 33 and 40 connected via blk: 33 [0,0,1,1,1,1] <-> blk: 40 [0,0,0,1,1,0]\n"
          ]
        },
        {
          "output_type": "stream",
          "name": "stderr",
          "text": [
            "Building connectivity: checking block 34:  79%|███████▊  | 1585/2016 [00:55<00:13, 32.17it/s]"
          ]
        },
        {
          "output_type": "stream",
          "name": "stdout",
          "text": [
            "[nodes] blocks 34 and 35 connected via blk: 34 [0,0,1,1,1,1] <-> blk: 35 [0,0,0,1,1,0]\n",
            "[nodes] blocks 34 and 38 connected via blk: 34 [1,0,0,1,1,1] <-> blk: 38 [0,0,0,0,1,1]\n"
          ]
        },
        {
          "output_type": "stream",
          "name": "stderr",
          "text": [
            "Building connectivity: checking block 34:  79%|███████▉  | 1601/2016 [00:55<00:13, 31.23it/s]"
          ]
        },
        {
          "output_type": "stream",
          "name": "stdout",
          "text": [
            "[nodes] blocks 34 and 48 connected via blk: 34 [0,1,0,1,1,1] <-> blk: 48 [0,0,0,1,0,1]\n"
          ]
        },
        {
          "output_type": "stream",
          "name": "stderr",
          "text": [
            "Building connectivity: checking block 35:  80%|████████  | 1617/2016 [00:56<00:12, 32.77it/s]"
          ]
        },
        {
          "output_type": "stream",
          "name": "stdout",
          "text": [
            "[nodes] blocks 35 and 39 connected via blk: 35 [1,0,0,1,1,1] <-> blk: 39 [0,0,0,0,1,1]\n",
            "[nodes] blocks 35 and 42 connected via blk: 35 [0,0,1,1,1,1] <-> blk: 42 [0,0,0,1,1,0]\n"
          ]
        },
        {
          "output_type": "stream",
          "name": "stderr",
          "text": [
            "Building connectivity: checking block 35:  81%|████████  | 1629/2016 [00:56<00:12, 30.88it/s]"
          ]
        },
        {
          "output_type": "stream",
          "name": "stdout",
          "text": [
            "[nodes] blocks 35 and 49 connected via blk: 35 [0,1,0,1,1,1] <-> blk: 49 [0,0,0,1,0,1]\n"
          ]
        },
        {
          "output_type": "stream",
          "name": "stderr",
          "text": [
            "Building connectivity: checking block 36:  81%|████████▏ | 1642/2016 [00:57<00:10, 34.32it/s]"
          ]
        },
        {
          "output_type": "stream",
          "name": "stdout",
          "text": [
            "[nodes] blocks 36 and 37 connected via blk: 36 [0,0,1,1,1,1] <-> blk: 37 [0,0,0,1,1,0]\n",
            "[nodes] blocks 36 and 38 connected via blk: 36 [0,1,0,1,1,1] <-> blk: 38 [0,0,0,1,0,1]\n"
          ]
        },
        {
          "output_type": "stream",
          "name": "stderr",
          "text": [
            "Building connectivity: checking block 37:  83%|████████▎ | 1670/2016 [00:58<00:10, 31.49it/s]"
          ]
        },
        {
          "output_type": "stream",
          "name": "stdout",
          "text": [
            "[nodes] blocks 37 and 39 connected via blk: 37 [0,1,0,1,1,1] <-> blk: 39 [0,0,0,1,0,1]\n",
            "[nodes] blocks 37 and 44 connected via blk: 37 [0,0,1,1,1,1] <-> blk: 44 [0,0,0,1,1,0]\n"
          ]
        },
        {
          "output_type": "stream",
          "name": "stderr",
          "text": [
            "Building connectivity: checking block 38:  84%|████████▍ | 1698/2016 [00:58<00:10, 30.96it/s]"
          ]
        },
        {
          "output_type": "stream",
          "name": "stdout",
          "text": [
            "[nodes] blocks 38 and 39 connected via blk: 38 [0,0,1,1,1,1] <-> blk: 39 [0,0,0,1,1,0]\n"
          ]
        },
        {
          "output_type": "stream",
          "name": "stderr",
          "text": [
            "Building connectivity: checking block 38:  85%|████████▍ | 1710/2016 [00:59<00:09, 32.04it/s]"
          ]
        },
        {
          "output_type": "stream",
          "name": "stdout",
          "text": [
            "[nodes] blocks 38 and 52 connected via blk: 38 [0,1,0,1,1,1] <-> blk: 52 [0,0,0,1,0,1]\n"
          ]
        },
        {
          "output_type": "stream",
          "name": "stderr",
          "text": [
            "Building connectivity: checking block 39:  86%|████████▌ | 1726/2016 [00:59<00:09, 31.06it/s]"
          ]
        },
        {
          "output_type": "stream",
          "name": "stdout",
          "text": [
            "[nodes] blocks 39 and 46 connected via blk: 39 [0,0,1,1,1,1] <-> blk: 46 [0,0,0,1,1,0]\n"
          ]
        },
        {
          "output_type": "stream",
          "name": "stderr",
          "text": [
            "Building connectivity: checking block 39:  86%|████████▌ | 1734/2016 [01:00<00:09, 31.20it/s]"
          ]
        },
        {
          "output_type": "stream",
          "name": "stdout",
          "text": [
            "[nodes] blocks 39 and 53 connected via blk: 39 [0,1,0,1,1,1] <-> blk: 53 [0,0,0,1,0,1]\n"
          ]
        },
        {
          "output_type": "stream",
          "name": "stderr",
          "text": [
            "Building connectivity: checking block 40:  87%|████████▋ | 1746/2016 [01:00<00:08, 32.56it/s]"
          ]
        },
        {
          "output_type": "stream",
          "name": "stdout",
          "text": [
            "[nodes] blocks 40 and 41 connected via blk: 40 [0,0,1,1,1,1] <-> blk: 41 [0,0,0,1,1,0]\n",
            "[nodes] blocks 40 and 42 connected via blk: 40 [0,1,0,1,1,1] <-> blk: 42 [0,0,0,1,0,1]\n",
            "[nodes] blocks 40 and 44 connected via blk: 40 [1,0,0,1,1,1] <-> blk: 44 [0,0,0,0,1,1]\n"
          ]
        },
        {
          "output_type": "stream",
          "name": "stderr",
          "text": [
            "Building connectivity: checking block 41:  88%|████████▊ | 1768/2016 [01:01<00:10, 24.60it/s]"
          ]
        },
        {
          "output_type": "stream",
          "name": "stdout",
          "text": [
            "[nodes] blocks 41 and 43 connected via blk: 41 [0,1,0,1,1,1] <-> blk: 43 [0,0,0,1,0,1]\n",
            "[nodes] blocks 41 and 45 connected via blk: 41 [1,0,0,1,1,1] <-> blk: 45 [0,0,0,0,1,1]\n"
          ]
        },
        {
          "output_type": "stream",
          "name": "stderr",
          "text": [
            "Building connectivity: checking block 42:  89%|████████▊ | 1789/2016 [01:02<00:09, 23.28it/s]"
          ]
        },
        {
          "output_type": "stream",
          "name": "stdout",
          "text": [
            "[nodes] blocks 42 and 43 connected via blk: 42 [0,0,1,1,1,1] <-> blk: 43 [0,0,0,1,1,0]\n",
            "[nodes] blocks 42 and 46 connected via blk: 42 [1,0,0,1,1,1] <-> blk: 46 [0,0,0,0,1,1]\n"
          ]
        },
        {
          "output_type": "stream",
          "name": "stderr",
          "text": [
            "Building connectivity: checking block 42:  89%|████████▉ | 1801/2016 [01:02<00:10, 20.41it/s]"
          ]
        },
        {
          "output_type": "stream",
          "name": "stdout",
          "text": [
            "[nodes] blocks 42 and 56 connected via blk: 42 [0,1,0,1,1,1] <-> blk: 56 [0,0,0,1,0,1]\n"
          ]
        },
        {
          "output_type": "stream",
          "name": "stderr",
          "text": [
            "Building connectivity: checking block 43:  90%|████████▉ | 1813/2016 [01:03<00:09, 21.98it/s]"
          ]
        },
        {
          "output_type": "stream",
          "name": "stdout",
          "text": [
            "[nodes] blocks 43 and 47 connected via blk: 43 [1,0,0,1,1,1] <-> blk: 47 [0,0,0,0,1,1]\n"
          ]
        },
        {
          "output_type": "stream",
          "name": "stderr",
          "text": [
            "Building connectivity: checking block 43:  91%|█████████ | 1825/2016 [01:03<00:07, 27.12it/s]"
          ]
        },
        {
          "output_type": "stream",
          "name": "stdout",
          "text": [
            "[nodes] blocks 43 and 57 connected via blk: 43 [0,1,0,1,1,1] <-> blk: 57 [0,0,0,1,0,1]\n"
          ]
        },
        {
          "output_type": "stream",
          "name": "stderr",
          "text": [
            "Building connectivity: checking block 44:  91%|█████████ | 1833/2016 [01:04<00:06, 29.93it/s]"
          ]
        },
        {
          "output_type": "stream",
          "name": "stdout",
          "text": [
            "[nodes] blocks 44 and 45 connected via blk: 44 [0,0,1,1,1,1] <-> blk: 45 [0,0,0,1,1,0]\n",
            "[nodes] blocks 44 and 46 connected via blk: 44 [0,1,0,1,1,1] <-> blk: 46 [0,0,0,1,0,1]\n"
          ]
        },
        {
          "output_type": "stream",
          "name": "stderr",
          "text": [
            "Building connectivity: checking block 45:  92%|█████████▏| 1851/2016 [01:04<00:05, 30.20it/s]"
          ]
        },
        {
          "output_type": "stream",
          "name": "stdout",
          "text": [
            "[nodes] blocks 45 and 47 connected via blk: 45 [0,1,0,1,1,1] <-> blk: 47 [0,0,0,1,0,1]\n"
          ]
        },
        {
          "output_type": "stream",
          "name": "stderr",
          "text": [
            "Building connectivity: checking block 46:  93%|█████████▎| 1869/2016 [01:05<00:04, 30.06it/s]"
          ]
        },
        {
          "output_type": "stream",
          "name": "stdout",
          "text": [
            "[nodes] blocks 46 and 47 connected via blk: 46 [0,0,1,1,1,1] <-> blk: 47 [0,0,0,1,1,0]\n"
          ]
        },
        {
          "output_type": "stream",
          "name": "stderr",
          "text": [
            "Building connectivity: checking block 47:  93%|█████████▎| 1880/2016 [01:05<00:04, 30.52it/s]"
          ]
        },
        {
          "output_type": "stream",
          "name": "stdout",
          "text": [
            "[nodes] blocks 46 and 60 connected via blk: 46 [0,1,0,1,1,1] <-> blk: 60 [0,0,0,1,0,1]\n"
          ]
        },
        {
          "output_type": "stream",
          "name": "stderr",
          "text": [
            "Building connectivity: checking block 48:  94%|█████████▍| 1899/2016 [01:06<00:03, 32.08it/s]"
          ]
        },
        {
          "output_type": "stream",
          "name": "stdout",
          "text": [
            "[nodes] blocks 47 and 61 connected via blk: 47 [0,1,0,1,1,1] <-> blk: 61 [0,0,0,1,0,1]\n",
            "[nodes] blocks 48 and 49 connected via blk: 48 [0,0,1,1,1,1] <-> blk: 49 [0,0,0,1,1,0]\n",
            "[nodes] blocks 48 and 50 connected via blk: 48 [0,1,0,1,1,1] <-> blk: 50 [0,0,0,1,0,1]\n",
            "[nodes] blocks 48 and 52 connected via blk: 48 [1,0,0,1,1,1] <-> blk: 52 [0,0,0,0,1,1]\n"
          ]
        },
        {
          "output_type": "stream",
          "name": "stderr",
          "text": [
            "Building connectivity: checking block 49:  95%|█████████▍| 1915/2016 [01:06<00:03, 32.49it/s]"
          ]
        },
        {
          "output_type": "stream",
          "name": "stdout",
          "text": [
            "[nodes] blocks 49 and 51 connected via blk: 49 [0,1,0,1,1,1] <-> blk: 51 [0,0,0,1,0,1]\n",
            "[nodes] blocks 49 and 53 connected via blk: 49 [1,0,0,1,1,1] <-> blk: 53 [0,0,0,0,1,1]\n",
            "[nodes] blocks 49 and 56 connected via blk: 49 [0,0,1,1,1,1] <-> blk: 56 [0,0,0,1,1,0]\n"
          ]
        },
        {
          "output_type": "stream",
          "name": "stderr",
          "text": [
            "Building connectivity: checking block 50:  96%|█████████▌| 1931/2016 [01:07<00:02, 31.83it/s]"
          ]
        },
        {
          "output_type": "stream",
          "name": "stdout",
          "text": [
            "[nodes] blocks 50 and 51 connected via blk: 50 [0,0,1,1,1,1] <-> blk: 51 [0,0,0,1,1,0]\n",
            "[nodes] blocks 50 and 54 connected via blk: 50 [1,0,0,1,1,1] <-> blk: 54 [0,0,0,0,1,1]\n"
          ]
        },
        {
          "output_type": "stream",
          "name": "stderr",
          "text": [
            "Building connectivity: checking block 51:  97%|█████████▋| 1947/2016 [01:07<00:02, 32.02it/s]"
          ]
        },
        {
          "output_type": "stream",
          "name": "stdout",
          "text": [
            "[nodes] blocks 51 and 55 connected via blk: 51 [1,0,0,1,1,1] <-> blk: 55 [0,0,0,0,1,1]\n",
            "[nodes] blocks 51 and 58 connected via blk: 51 [0,0,1,1,1,1] <-> blk: 58 [0,0,0,1,1,0]\n"
          ]
        },
        {
          "output_type": "stream",
          "name": "stderr",
          "text": [
            "Building connectivity: checking block 52:  97%|█████████▋| 1955/2016 [01:08<00:01, 32.28it/s]"
          ]
        },
        {
          "output_type": "stream",
          "name": "stdout",
          "text": [
            "[nodes] blocks 52 and 53 connected via blk: 52 [0,0,1,1,1,1] <-> blk: 53 [0,0,0,1,1,0]\n",
            "[nodes] blocks 52 and 54 connected via blk: 52 [0,1,0,1,1,1] <-> blk: 54 [0,0,0,1,0,1]\n"
          ]
        },
        {
          "output_type": "stream",
          "name": "stderr",
          "text": [
            "Building connectivity: checking block 53:  98%|█████████▊| 1967/2016 [01:08<00:01, 32.02it/s]"
          ]
        },
        {
          "output_type": "stream",
          "name": "stdout",
          "text": [
            "[nodes] blocks 53 and 55 connected via blk: 53 [0,1,0,1,1,1] <-> blk: 55 [0,0,0,1,0,1]\n",
            "[nodes] blocks 53 and 60 connected via blk: 53 [0,0,1,1,1,1] <-> blk: 60 [0,0,0,1,1,0]\n"
          ]
        },
        {
          "output_type": "stream",
          "name": "stderr",
          "text": [
            "Building connectivity: checking block 54:  98%|█████████▊| 1975/2016 [01:08<00:01, 32.59it/s]"
          ]
        },
        {
          "output_type": "stream",
          "name": "stdout",
          "text": [
            "[nodes] blocks 54 and 55 connected via blk: 54 [0,0,1,1,1,1] <-> blk: 55 [0,0,0,1,1,0]\n"
          ]
        },
        {
          "output_type": "stream",
          "name": "stderr",
          "text": [
            "Building connectivity: checking block 56:  99%|█████████▉| 1991/2016 [01:09<00:00, 32.78it/s]"
          ]
        },
        {
          "output_type": "stream",
          "name": "stdout",
          "text": [
            "[nodes] blocks 55 and 62 connected via blk: 55 [0,0,1,1,1,1] <-> blk: 62 [0,0,0,1,1,0]\n",
            "[nodes] blocks 56 and 57 connected via blk: 56 [0,0,1,1,1,1] <-> blk: 57 [0,0,0,1,1,0]\n",
            "[nodes] blocks 56 and 58 connected via blk: 56 [0,1,0,1,1,1] <-> blk: 58 [0,0,0,1,0,1]\n",
            "[nodes] blocks 56 and 60 connected via blk: 56 [1,0,0,1,1,1] <-> blk: 60 [0,0,0,0,1,1]\n"
          ]
        },
        {
          "output_type": "stream",
          "name": "stderr",
          "text": [
            "Building connectivity: checking block 58:  99%|█████████▉| 2003/2016 [01:09<00:00, 32.65it/s]"
          ]
        },
        {
          "output_type": "stream",
          "name": "stdout",
          "text": [
            "[nodes] blocks 57 and 59 connected via blk: 57 [0,1,0,1,1,1] <-> blk: 59 [0,0,0,1,0,1]\n",
            "[nodes] blocks 57 and 61 connected via blk: 57 [1,0,0,1,1,1] <-> blk: 61 [0,0,0,0,1,1]\n",
            "[nodes] blocks 58 and 59 connected via blk: 58 [0,0,1,1,1,1] <-> blk: 59 [0,0,0,1,1,0]\n"
          ]
        },
        {
          "output_type": "stream",
          "name": "stderr",
          "text": [
            "Building connectivity: checking block 60: 100%|█████████▉| 2011/2016 [01:09<00:00, 32.40it/s]"
          ]
        },
        {
          "output_type": "stream",
          "name": "stdout",
          "text": [
            "[nodes] blocks 58 and 62 connected via blk: 58 [1,0,0,1,1,1] <-> blk: 62 [0,0,0,0,1,1]\n",
            "[nodes] blocks 59 and 63 connected via blk: 59 [1,0,0,1,1,1] <-> blk: 63 [0,0,0,0,1,1]\n",
            "[nodes] blocks 60 and 61 connected via blk: 60 [0,0,1,1,1,1] <-> blk: 61 [0,0,0,1,1,0]\n"
          ]
        },
        {
          "output_type": "stream",
          "name": "stderr",
          "text": [
            "Building connectivity: checking block 62: 100%|██████████| 2016/2016 [01:10<00:00, 28.78it/s]"
          ]
        },
        {
          "output_type": "stream",
          "name": "stdout",
          "text": [
            "[nodes] blocks 60 and 62 connected via blk: 60 [0,1,0,1,1,1] <-> blk: 62 [0,0,0,1,0,1]\n",
            "[nodes] blocks 61 and 63 connected via blk: 61 [0,1,0,1,1,1] <-> blk: 63 [0,0,0,1,0,1]\n",
            "[nodes] blocks 62 and 63 connected via blk: 62 [0,0,1,1,1,1] <-> blk: 63 [0,0,0,1,1,0]\n"
          ]
        },
        {
          "output_type": "stream",
          "name": "stderr",
          "text": [
            "\n"
          ]
        }
      ],
      "source": [
        "print('Creating block connection matrix')\n",
        "c = block_connection_matrix(blocks,all_faces)\n",
        "data[\"connectivity_matrix\"]=c\n",
        "dump_data(data)"
      ]
    },
    {
      "cell_type": "markdown",
      "metadata": {
        "id": "u8VpkJAbgsX_"
      },
      "source": [
        "## Find bounding faces\n",
        "This finds for example all the faces on the right side of the block. Bounded axes are passed as \"x\",\"y\",or \"z\".\n",
        "\n",
        "![bounded faces](https://github.com/nasa/Plot3D_utilities/blob/main/colab/images/block_bounded_faces.png?raw=true)"
      ]
    },
    {
      "cell_type": "markdown",
      "metadata": {
        "id": "URU2nLbOoOao"
      },
      "source": [
        "## Find Periodicity\n",
        "Now that we have the bounded faces, we can search for peridocity. In this example, we find periodicity in all directions: x, y, and z."
      ]
    },
    {
      "cell_type": "code",
      "execution_count": 17,
      "metadata": {
        "id": "MfavuoXDoNlj"
      },
      "outputs": [],
      "source": [
        "data = read_data()\n",
        "all_faces = data['all_faces']\n",
        "connectivity_matrix = data['connectivity_matrix']\n",
        "\n",
        "#%% Find bounding Faces\n",
        "z_periodic_faces_export, periodic_faces, outer_faces = translational_periodicity(blocks,all_faces,translational_direction='z')\n",
        "x_periodic_faces_export, periodic_faces, outer_faces = translational_periodicity(blocks,outer_faces,translational_direction='x')\n",
        "y_periodic_faces_export, periodic_faces, outer_faces = translational_periodicity(blocks,outer_faces,translational_direction='y')\n",
        "data['x_periodic'] = x_periodic_faces_export\n",
        "data['z_periodic'] = z_periodic_faces_export\n",
        "data['y_periodic'] = y_periodic_faces_export\n",
        "data['outer_faces'] = outer_faces\n",
        "dump_data(data)"
      ]
    },
    {
      "cell_type": "markdown",
      "metadata": {
        "id": "7b_u1bdUo4mU"
      },
      "source": [
        "## Exporting to GlennHT Format\n",
        "Because, why not."
      ]
    },
    {
      "cell_type": "code",
      "execution_count": 18,
      "metadata": {
        "colab": {
          "base_uri": "https://localhost:8080/"
        },
        "id": "5HSzMgc7o9WJ",
        "outputId": "a8d46a59-99c3-4a02-e9f1-215b9c411f3a"
      },
      "outputs": [
        {
          "output_type": "stream",
          "name": "stdout",
          "text": [
            "Number of outer_faces: 0\n"
          ]
        }
      ],
      "source": [
        "data = read_data()\n",
        "matched_faces = data['x_periodic']\n",
        "matched_faces.extend(data['y_periodic'])\n",
        "matched_faces.extend(data['z_periodic'])\n",
        "matched_faces.extend(data['face_matches'])\n",
        "\n",
        "# in this case we only have matched faces and no outer faces but lets filter it anyways\n",
        "outer_faces = data['outer_faces']\n",
        "outer_faces = outer_face_dict_to_list(blocks,outer_faces)\n",
        "matched_faces = list(set(match_faces_dict_to_list(blocks,matched_faces)))\n",
        "outer_faces = [o for o in outer_faces if o not in matched_faces]\n",
        "\n",
        "print(f\"Number of outer_faces: {len(outer_faces)}\") # this should be 0"
      ]
    },
    {
      "cell_type": "code",
      "execution_count": 19,
      "metadata": {
        "colab": {
          "base_uri": "https://localhost:8080/"
        },
        "id": "AN7LttgTswdv",
        "outputId": "c846c571-50dc-4035-d502-4a5ae1170f18"
      },
      "outputs": [
        {
          "output_type": "execute_result",
          "data": {
            "text/plain": [
              "[]"
            ]
          },
          "metadata": {},
          "execution_count": 19
        }
      ],
      "source": [
        "outer_faces"
      ]
    }
  ],
  "metadata": {
    "colab": {
      "provenance": []
    },
    "kernelspec": {
      "display_name": "dev",
      "language": "python",
      "name": "python3"
    },
    "language_info": {
      "name": "python",
      "version": "3.12.8"
    },
    "orig_nbformat": 4
  },
  "nbformat": 4,
  "nbformat_minor": 0
}